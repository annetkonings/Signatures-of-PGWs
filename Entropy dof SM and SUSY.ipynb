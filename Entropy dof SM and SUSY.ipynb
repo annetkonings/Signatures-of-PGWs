{
 "cells": [
  {
   "cell_type": "code",
   "execution_count": 1,
   "metadata": {},
   "outputs": [],
   "source": [
    "import numpy as np\n",
    "import scipy.integrate as integrate\n",
    "from scipy.integrate import quad\n",
    "import warnings\n",
    "import matplotlib.pyplot as plt\n",
    "import pandas as pd"
   ]
  },
  {
   "cell_type": "code",
   "execution_count": 2,
   "metadata": {},
   "outputs": [],
   "source": [
    "#The formulas to get the extra factor of g*s\n",
    "def integrate_boson(temp, mass, prefactor):\n",
    "    function_boson = lambda u: prefactor*15/(np.pi)**4*(u**2-(mass/temp)**2)**(1/2)*(u**2-(1/4)*(mass/temp)**2)/(np.exp(u)-1)\n",
    "    answer_boson, error = integrate.quad(function_boson, mass/temp, np.inf)\n",
    "    return answer_boson, error\n",
    "\n",
    "def integrate_fermion(temp, mass, prefactor):\n",
    "    function_fermion = lambda u: prefactor*15/(np.pi)**4*(u**2-(mass/temp)**2)**(1/2)*(u**2-(1/4)*(mass/temp)**2)/(np.exp(u)+1)\n",
    "    answer_fermion, error = integrate.quad(function_fermion, mass/temp, np.inf) \n",
    "    return answer_fermion, error"
   ]
  },
  {
   "cell_type": "code",
   "execution_count": 3,
   "metadata": {},
   "outputs": [
    {
     "name": "stdout",
     "output_type": "stream",
     "text": [
      "32\n",
      "32\n",
      "32\n",
      "7780\n"
     ]
    },
    {
     "data": {
      "image/png": "[encoded data removed]",
      "text/plain": [
       "<Figure size 432x288 with 1 Axes>"
      ]
     },
     "metadata": {
      "needs_background": "light"
     },
     "output_type": "display_data"
    }
   ],
   "source": [
    "#The rest masses, number of helicity states, boson/fermion, and temperature range\n",
    "masses_lower = [0, 0, 0.51, 106, 135, 140]\n",
    "masses_SM_upper = [0, 0, 0, 0.51, 106, 5, 9, 115, 1.3*10**3, 1.8*10**3, 4.4*10**3, 80*10**3, 91*10**3, 114*10**3, 174*10**3]\n",
    "masses_SUSY = 10*[10**7]+7*[10**8]\n",
    "masses_upper = masses_SM_upper + masses_SUSY\n",
    "print(len(masses_upper))\n",
    "#Just use order of list as in paper\n",
    "\n",
    "helicities_lower = [2, 6, 4, 4, 2, 1]\n",
    "helicities_SM_upper = [2, 6, 16, 4, 4, 12, 12, 12, 12, 4, 12, 6, 3, 1, 12]\n",
    "helicities_SUSY = [2, 6, 4, 4, 2, 1, 16, 12, 12, 12, 12, 4, 12, 6, 3, 1, 12]\n",
    "helicities_upper = helicities_SM_upper + helicities_SUSY\n",
    "print(len(helicities_upper))\n",
    "\n",
    "boson_lower = [True, False, False, False, True, True]\n",
    "boson_SM_upper = [True, False, True, False, False, False, False, False, False, False, False, True, True, True, False]\n",
    "boson_SUSY = [False, True, True, True, False, False, False, True, True, True, True, True, True, False, False, False, True]\n",
    "boson_upper = boson_SM_upper + boson_SUSY\n",
    "print(len(boson_upper))\n",
    "\n",
    "\"\"\"\n",
    "temp_lower1 = np.arange(10**(-4), 1, 10**(-4))\n",
    "temp_lower2 = np.arange(1, 150, 0.05)\n",
    "temp_lower_tot = np.append(temp_lower1, temp_lower2)\n",
    "temp_upper1 = np.arange(200, 10**6, 200)\n",
    "temp_upper2 = np.arange(10**6, 10**9, 1.5*10**5)\n",
    "temp_upper_tot = np.append(temp_upper1, temp_upper2)\n",
    "\"\"\"\n",
    "temp_lower1 = np.logspace(-7, 0, 1500)\n",
    "temp_lower2 = np.arange(1, 150, 0.05)\n",
    "temp_lower_tot = np.append(temp_lower1, temp_lower2)\n",
    "temp_upper1 = np.append(np.arange(200, 1000, 1),np.logspace(3, 6, 1000))\n",
    "temp_upper2 = np.logspace(6, 10, 1500)\n",
    "temp_upper_tot = np.append(temp_upper1, temp_upper2)\n",
    "print(len(temp_lower_tot)+len(temp_upper_tot))\n",
    "plt.plot(temp_lower_tot)\n",
    "plt.show()"
   ]
  },
  {
   "cell_type": "code",
   "execution_count": 4,
   "metadata": {},
   "outputs": [
    {
     "name": "stderr",
     "output_type": "stream",
     "text": [
      "C:\\Users\\Annet\\Anaconda3\\lib\\site-packages\\ipykernel_launcher.py:3: RuntimeWarning: overflow encountered in exp\n",
      "  This is separate from the ipykernel package so we can avoid doing imports until\n",
      "C:\\Users\\Annet\\Anaconda3\\lib\\site-packages\\ipykernel_launcher.py:8: RuntimeWarning: overflow encountered in exp\n",
      "  \n"
     ]
    }
   ],
   "source": [
    "s_dof_lower = np.zeros(len(temp_lower_tot))\n",
    "errors_lower = np.zeros(len(temp_lower_tot)*len(boson_lower))\n",
    "error_now_lower = 0\n",
    "\n",
    "for i in np.arange(0,len(boson_lower)):\n",
    "    if boson_lower[i] == True:\n",
    "        for j in np.arange(0,len(temp_lower_tot)):\n",
    "            lower_boson, new_error_boson = integrate_boson(temp_lower_tot[j], masses_lower[i], helicities_lower[i])\n",
    "            s_dof_lower[j] += lower_boson\n",
    "            errors_lower[error_now_lower] = new_error_boson\n",
    "\n",
    "    else:\n",
    "        for j in np.arange(0,len(temp_lower_tot)):\n",
    "            nu_upper_bound = 3 #MeV\n",
    "            nu_lower_bound = 1 #MeV\n",
    "            if i == 1 and nu_lower_bound < temp_lower_tot[j] < nu_upper_bound: \n",
    "                neutrino, new_error_fermion = integrate_fermion(temp_lower_tot[j], masses_lower[i], helicities_lower[i])\n",
    "                lower_bound = (4/11)**(3/3)\n",
    "                upper_bound = 1\n",
    "                scaled_temp = (temp_lower_tot[j] - nu_lower_bound) / (nu_upper_bound - nu_lower_bound)\n",
    "                a = lower_bound + (upper_bound - lower_bound) / (1 + np.exp(-15 * (scaled_temp - 0.5)))\n",
    "                s_dof_lower[j]+= a*neutrino           \n",
    "            elif i == 1 and temp_lower_tot[j] <= nu_lower_bound:\n",
    "                neutrino, new_error_fermion = integrate_fermion(temp_lower_tot[j], masses_lower[i], helicities_lower[i])\n",
    "                s_dof_lower[j]+=(4/11)**(3/3)*neutrino\n",
    "            elif i == 1 and temp_lower_tot[j] >= nu_upper_bound:\n",
    "                neutrino, new_error_fermion = integrate_fermion(temp_lower_tot[j], masses_lower[i], helicities_lower[i])\n",
    "                s_dof_lower[j]+=neutrino\n",
    "            else:\n",
    "                lower_fermion, new_error_fermion = integrate_fermion(temp_lower_tot[j], masses_lower[i], helicities_lower[i])\n",
    "                s_dof_lower[j]+=lower_fermion\n",
    "            errors_lower[error_now_lower] = new_error_fermion\n",
    "    error_now_lower+=1"
   ]
  },
  {
   "cell_type": "code",
   "execution_count": 5,
   "metadata": {},
   "outputs": [
    {
     "name": "stdout",
     "output_type": "stream",
     "text": [
      "[ 3.90909091  3.90909091  3.90909091 ... 16.71551588 16.71583181\n",
      " 16.71614746]\n"
     ]
    }
   ],
   "source": [
    "temperature_extra = np.logspace(-9, -7, 200)\n",
    "s_dof_extra = len(temperature_extra)*[s_dof_lower[0]]\n",
    "print(s_dof_lower)"
   ]
  },
  {
   "cell_type": "code",
   "execution_count": 6,
   "metadata": {},
   "outputs": [],
   "source": [
    "#Combine the different ranges\n",
    "df_SM = pd.read_csv('dof_SM_SUSY2.csv')\n",
    "dof_SM = df_SM['dof']\n",
    "temperature_SM = df_SM['temperature']\n",
    "entropy_dof_SM = np.append(s_dof_extra, np.append(s_dof_lower,dof_SM[len(temp_lower_tot)+len(temperature_extra):]))"
   ]
  },
  {
   "cell_type": "code",
   "execution_count": 8,
   "metadata": {},
   "outputs": [],
   "source": [
    "#Write data to a panda file called 's_dof_SM.csv', with columns of the dof, the temperature and the time\n",
    "#The temperature and time are the same as for g*\n",
    "\n",
    "s_dof_SM_panda = pd.DataFrame(list(zip(np.transpose(entropy_dof_SM), np.transpose(temperature_SM))), columns=['s_dof', 'temperature'])\n",
    "s_dof_SM_panda.to_csv('s_dof_SM_SUSY2.csv', index=False)"
   ]
  },
  {
   "cell_type": "code",
   "execution_count": 8,
   "metadata": {},
   "outputs": [
    {
     "data": {
      "image/png": "[encoded data removed]",
      "text/plain": [
       "<Figure size 432x288 with 1 Axes>"
      ]
     },
     "metadata": {
      "needs_background": "light"
     },
     "output_type": "display_data"
    }
   ],
   "source": [
    "#Plot the entropy dof of SM, SM+axion, and SM+heavy\n",
    "s_df_SM = pd.read_csv('s_dof_SM.csv')\n",
    "s_df_SUSY = pd.read_csv('s_dof_SM_SUSY.csv')\n",
    "plt.plot(s_df_SM['temperature'], s_df_SM['s_dof'], label='SM')\n",
    "plt.plot(s_df_SUSY['temperature'], s_df_SUSY['s_dof'], label='SM+SUSY', linestyle='dashed')\n",
    "plt.xscale('log')\n",
    "plt.yscale('log')\n",
    "plt.xlabel('T (MeV)')\n",
    "plt.ylabel(r'$g_{\\ast s}$')\n",
    "plt.title(r'$g_{\\ast s}$ of SM, SM with axion, and SM with heavy particle')\n",
    "plt.legend()\n",
    "plt.show()"
   ]
  }
 ],
 "metadata": {
  "kernelspec": {
   "display_name": "Python 3",
   "language": "python",
   "name": "python3"
  },
  "language_info": {
   "codemirror_mode": {
    "name": "ipython",
    "version": 3
   },
   "file_extension": ".py",
   "mimetype": "text/x-python",
   "name": "python",
   "nbconvert_exporter": "python",
   "pygments_lexer": "ipython3",
   "version": "3.7.3"
  }
 },
 "nbformat": 4,
 "nbformat_minor": 2
}
